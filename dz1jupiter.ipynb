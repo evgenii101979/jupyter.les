{
 "cells": [
  {
   "cell_type": "code",
   "execution_count": null,
   "metadata": {},
   "outputs": [],
   "source": [
    "# f(x) = -12x^4*sin(cos(x)) - 18x^3+5x^2 + 10x - 30\n",
    "# Определить корни\n",
    "# Найти интервалы, на которых функция возрастает\n",
    "# Найти интервалы, на которых функция убывает\n",
    "# Построить график\n",
    "# Вычислить вершину\n",
    "# Определить промежутки, на котором f > 0\n",
    "# Определить промежутки, на котором f < 0"
   ]
  }
 ],
 "metadata": {
  "kernelspec": {
   "display_name": "Python 3",
   "language": "python",
   "name": "python3"
  },
  "language_info": {
   "name": "python",
   "version": "3.11.0 (main, Oct 24 2022, 18:26:48) [MSC v.1933 64 bit (AMD64)]"
  },
  "orig_nbformat": 4,
  "vscode": {
   "interpreter": {
    "hash": "d27e5e3312e4725dc40f82ba69e800a336cd3a2d013907ca31bc52f9166665a3"
   }
  }
 },
 "nbformat": 4,
 "nbformat_minor": 2
}
