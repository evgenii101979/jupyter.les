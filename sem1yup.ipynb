{
 "cells": [
  {
   "cell_type": "code",
   "execution_count": null,
   "metadata": {},
   "outputs": [],
   "source": [
    "# Дана функция f(x) = 5x^2 + 10x - 30\n",
    "# Определить корни (найти такие х, при которых f(x) = 0) - корни уравнения f(x) = 0\n",
    "# Найти интервалы, на которых функция возрастает (решить неравенства где производная больше или меньше нуля)\n",
    "# Найти интервалы, на которых функция убывает\n",
    "# Построить график\n",
    "# Вычислить вершину (найти производню и приравнять к нулю)\n",
    "# Определить промежутки, на котором f > 0 (Найти такие x, при которых f(х) > 0) неравенствo f(x) > 0\n",
    "# Определить промежутки, на котором f < 0 ( Найти такие x, при которых f(х) < 0) неравенствo f(x) < 0\n",
    "# Какие методы потребуются: (sympy)\n",
    "# 1) Методы решающие уравнения\n",
    "# 2) Методы решающие неравенства\n",
    "# 3) Методы, которые находят производную"
   ]
  },
  {
   "cell_type": "code",
   "execution_count": 33,
   "metadata": {},
   "outputs": [],
   "source": [
    "from sympy.plotting import *"
   ]
  },
  {
   "cell_type": "code",
   "execution_count": 35,
   "metadata": {},
   "outputs": [
    {
     "name": "stdout",
     "output_type": "stream",
     "text": [
      "    570 |                                                      /\n",
      "        |                                                     . \n",
      "        |                                                       \n",
      "        |                                                    .  \n",
      "        |                                                   /   \n",
      "        |                                                  /    \n",
      "        |                                                 /     \n",
      "        |\\                                               /      \n",
      "        | \\                                             /       \n",
      "        |  \\                                           /        \n",
      "    270 |---\\-----------------------------------------/---------\n",
      "        |    \\                                       /          \n",
      "        |     \\                                     /           \n",
      "        |      ..                                  /            \n",
      "        |        \\                                /             \n",
      "        |         ..                            ..              \n",
      "        |           \\                         ..                \n",
      "        |            ..                      /                  \n",
      "        |              ..                 ...                   \n",
      "        |                ...           ...                      \n",
      "    -30 |_______________________________________________________\n",
      "         -10                        0                          10\n"
     ]
    },
    {
     "data": {
      "text/plain": [
       "<sympy.plotting.plot.Plot at 0x21dedd9c710>"
      ]
     },
     "execution_count": 35,
     "metadata": {},
     "output_type": "execute_result"
    }
   ],
   "source": [
    "x = Symbol('x')\n",
    "f = 5*x**2 + 10*x - 30\n",
    "plot(f)"
   ]
  },
  {
   "cell_type": "code",
   "execution_count": 16,
   "metadata": {},
   "outputs": [
    {
     "name": "stdout",
     "output_type": "stream",
     "text": [
      "[-1 + sqrt(7), -sqrt(7) - 1]\n",
      "1.64575131106459\n",
      "-3.64575131106459\n"
     ]
    }
   ],
   "source": [
    "# определить корни\n",
    "ans = solve(f, x)\n",
    "print(ans)\n",
    "for i in ans:\n",
    "    print(i.evalf())"
   ]
  },
  {
   "cell_type": "code",
   "execution_count": 21,
   "metadata": {},
   "outputs": [
    {
     "name": "stdout",
     "output_type": "stream",
     "text": [
      "(-∞, -√7 - 1) ∪ (-1 + √7, ∞)\n"
     ]
    }
   ],
   "source": [
    "# Определить промежутки, на котором f > 0 (Найти такие x, при которых f(х) > 0) неравенствo f(x) > 0\n",
    "pprint(solveset(f > 0, x, domain = S.Reals), use_unicode = True)"
   ]
  },
  {
   "cell_type": "code",
   "execution_count": 22,
   "metadata": {},
   "outputs": [
    {
     "name": "stdout",
     "output_type": "stream",
     "text": [
      "(-√7 - 1, -1 + √7)\n"
     ]
    }
   ],
   "source": [
    "# Определить промежутки, на котором f < 0 ( Найти такие x, при которых f(х) < 0) неравенствo f(x) < 0\n",
    "pprint(solveset(f < 0, x, domain = S.Reals), use_unicode = True)"
   ]
  },
  {
   "cell_type": "code",
   "execution_count": 25,
   "metadata": {},
   "outputs": [
    {
     "name": "stdout",
     "output_type": "stream",
     "text": [
      "10*x + 10\n"
     ]
    },
    {
     "data": {
      "text/plain": [
       "[-1]"
      ]
     },
     "execution_count": 25,
     "metadata": {},
     "output_type": "execute_result"
    }
   ],
   "source": [
    "# Вычислить вершину (найти производню и приравнять к нулю)\n",
    "diff_f = diff(f, x)\n",
    "print(diff_f)\n",
    "solve(diff_f, x)"
   ]
  },
  {
   "cell_type": "code",
   "execution_count": 26,
   "metadata": {},
   "outputs": [
    {
     "name": "stdout",
     "output_type": "stream",
     "text": [
      "(-1, ∞)\n"
     ]
    }
   ],
   "source": [
    "# Найти интервалы, на которых функция возрастает (решить неравенства где производная больше или меньше нуля)\n",
    "pprint(solveset(diff_f > 0, x, domain = S.Reals), use_unicode = True)"
   ]
  },
  {
   "cell_type": "code",
   "execution_count": 27,
   "metadata": {},
   "outputs": [
    {
     "name": "stdout",
     "output_type": "stream",
     "text": [
      "(-∞, -1)\n"
     ]
    }
   ],
   "source": [
    "# Найти интервалы, на которых функция убывает\n",
    "pprint(solveset(diff_f < 0, x, domain = S.Reals), use_unicode = True)"
   ]
  },
  {
   "cell_type": "code",
   "execution_count": null,
   "metadata": {},
   "outputs": [],
   "source": []
  }
 ],
 "metadata": {
  "kernelspec": {
   "display_name": "Python 3",
   "language": "python",
   "name": "python3"
  },
  "language_info": {
   "codemirror_mode": {
    "name": "ipython",
    "version": 3
   },
   "file_extension": ".py",
   "mimetype": "text/x-python",
   "name": "python",
   "nbconvert_exporter": "python",
   "pygments_lexer": "ipython3",
   "version": "3.11.0 (main, Oct 24 2022, 18:26:48) [MSC v.1933 64 bit (AMD64)]"
  },
  "orig_nbformat": 4,
  "vscode": {
   "interpreter": {
    "hash": "d27e5e3312e4725dc40f82ba69e800a336cd3a2d013907ca31bc52f9166665a3"
   }
  }
 },
 "nbformat": 4,
 "nbformat_minor": 2
}
